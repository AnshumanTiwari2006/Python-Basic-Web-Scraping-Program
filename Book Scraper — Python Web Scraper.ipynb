{
  "nbformat": 4,
  "nbformat_minor": 0,
  "metadata": {
    "colab": {
      "provenance": []
    },
    "kernelspec": {
      "name": "python3",
      "display_name": "Python 3"
    },
    "language_info": {
      "name": "python"
    }
  },
  "cells": [
    {
      "cell_type": "code",
      "source": [
        "import requests\n",
        "from bs4 import BeautifulSoup\n",
        "import pandas as pd\n",
        "\n",
        "headers = {\n",
        "    \"User-Agent\": \"Mozilla/5.0\"\n",
        "}\n",
        "\n",
        "book_titles = []\n",
        "book_prices = []\n",
        "\n",
        "for page in range(1, 10):\n",
        "    url = f\"http://books.toscrape.com/catalogue/page-{page}.html\"\n",
        "    response = requests.get(url, headers=headers)\n",
        "    soup = BeautifulSoup(response.text, 'lxml')  # Just like your code\n",
        "\n",
        "    books = soup.find_all('article', class_='product_pod')\n",
        "\n",
        "    for book in books:\n",
        "        title = book.h3.a['title']\n",
        "        price = book.find('p', class_='price_color').text\n",
        "        book_titles.append(title)\n",
        "        book_prices.append(price)\n",
        "\n",
        "df = pd.DataFrame({\n",
        "    'Title': book_titles,\n",
        "    'Price': book_prices\n",
        "})\n",
        "\n",
        "print(df)\n"
      ],
      "metadata": {
        "colab": {
          "base_uri": "https://localhost:8080/"
        },
        "id": "4dd9CqZJCmoQ",
        "outputId": "5fbac62e-7c41-4e1e-decb-ad63f222cf33"
      },
      "execution_count": 6,
      "outputs": [
        {
          "output_type": "stream",
          "name": "stdout",
          "text": [
            "                                                 Title    Price\n",
            "0                                 A Light in the Attic  Â£51.77\n",
            "1                                   Tipping the Velvet  Â£53.74\n",
            "2                                           Soumission  Â£50.10\n",
            "3                                        Sharp Objects  Â£47.82\n",
            "4                Sapiens: A Brief History of Humankind  Â£54.23\n",
            "..                                                 ...      ...\n",
            "175  Poses for Artists Volume 1 - Dynamic and Sitti...  Â£41.06\n",
            "176                    Poems That Make Grown Women Cry  Â£14.19\n",
            "177                                  Nightingale, Sing  Â£38.28\n",
            "178                         Night Sky with Exit Wounds  Â£41.05\n",
            "179                                       Mrs. Houdini  Â£30.25\n",
            "\n",
            "[180 rows x 2 columns]\n"
          ]
        }
      ]
    },
    {
      "cell_type": "code",
      "source": [],
      "metadata": {
        "id": "y1NaHS6lDoae"
      },
      "execution_count": null,
      "outputs": []
    }
  ]
}